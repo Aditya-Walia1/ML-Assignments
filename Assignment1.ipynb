{
  "nbformat": 4,
  "nbformat_minor": 0,
  "metadata": {
    "colab": {
      "provenance": [],
      "authorship_tag": "ABX9TyNSPpRHkpA4u4kYWY8fIAA4",
      "include_colab_link": true
    },
    "kernelspec": {
      "name": "python3",
      "display_name": "Python 3"
    },
    "language_info": {
      "name": "python"
    }
  },
  "cells": [
    {
      "cell_type": "markdown",
      "metadata": {
        "id": "view-in-github",
        "colab_type": "text"
      },
      "source": [
        "<a href=\"https://colab.research.google.com/github/Aditya-Walia1/ML-Assignments/blob/main/Assignment1.ipynb\" target=\"_parent\"><img src=\"https://colab.research.google.com/assets/colab-badge.svg\" alt=\"Open In Colab\"/></a>"
      ]
    },
    {
      "cell_type": "markdown",
      "source": [
        "##Assignment 1"
      ],
      "metadata": {
        "id": "Ctc9MXzaVS23"
      }
    },
    {
      "cell_type": "code",
      "execution_count": null,
      "metadata": {
        "id": "lWFYYplVUcga"
      },
      "outputs": [],
      "source": [
        "import numpy as np\n"
      ]
    },
    {
      "cell_type": "code",
      "source": [
        "arr=([1,2,3,4,5,6,7,8])\n",
        "arr=np.array(arr)\n",
        "arr"
      ],
      "metadata": {
        "colab": {
          "base_uri": "https://localhost:8080/"
        },
        "id": "C4i92EiPU5kU",
        "outputId": "0405e78d-0141-4c4c-f362-6ccff00f24ef"
      },
      "execution_count": null,
      "outputs": [
        {
          "output_type": "execute_result",
          "data": {
            "text/plain": [
              "array([1, 2, 3, 4, 5, 6, 7, 8])"
            ]
          },
          "metadata": {},
          "execution_count": 2
        }
      ]
    },
    {
      "cell_type": "code",
      "source": [
        "#Question 1 (a)\n",
        "arr1=arr[::-1]\n",
        "arr1"
      ],
      "metadata": {
        "colab": {
          "base_uri": "https://localhost:8080/"
        },
        "id": "_L075t37VD_-",
        "outputId": "44d96d99-627d-4963-c4ba-fa50a5a8c408"
      },
      "execution_count": null,
      "outputs": [
        {
          "output_type": "execute_result",
          "data": {
            "text/plain": [
              "array([8, 7, 6, 5, 4, 3, 2, 1])"
            ]
          },
          "metadata": {},
          "execution_count": 3
        }
      ]
    },
    {
      "cell_type": "code",
      "source": [
        "arr2=np.flip(arr)\n",
        "arr2"
      ],
      "metadata": {
        "colab": {
          "base_uri": "https://localhost:8080/"
        },
        "id": "uvA6X5SSVSZI",
        "outputId": "fc99c67d-4992-4ff5-f8f4-638b815a9d91"
      },
      "execution_count": null,
      "outputs": [
        {
          "output_type": "execute_result",
          "data": {
            "text/plain": [
              "array([8, 7, 6, 5, 4, 3, 2, 1])"
            ]
          },
          "metadata": {},
          "execution_count": 4
        }
      ]
    },
    {
      "cell_type": "code",
      "source": [
        "#Question 1 b\n",
        "array1 = np.array([[1,2,3],[4,5,6],[3,4,5]])\n",
        "flatten1=array1.flatten()\n",
        "print(flatten1)\n",
        "\n",
        "array2=array1.ravel()\n",
        "print(array2)"
      ],
      "metadata": {
        "colab": {
          "base_uri": "https://localhost:8080/"
        },
        "id": "CyNf_3i2Voq_",
        "outputId": "7d6322f1-d16a-4ecd-f2ba-44d66b72c7c6"
      },
      "execution_count": null,
      "outputs": [
        {
          "output_type": "stream",
          "name": "stdout",
          "text": [
            "[1 2 3 4 5 6 3 4 5]\n",
            "[1 2 3 4 5 6 3 4 5]\n"
          ]
        }
      ]
    },
    {
      "cell_type": "code",
      "source": [
        "#Question 1 c\n",
        "arr1=np.array([[1,2,3],[3,4,5],[6,7,8]])\n",
        "arr2=np.array([[3,4,5],[6,7,8],[9,10,11]])\n",
        "\n",
        "comparison=np.array_equal(arr1,arr2)\n",
        "print(comparison)"
      ],
      "metadata": {
        "colab": {
          "base_uri": "https://localhost:8080/"
        },
        "id": "DPcUmCUQYXm9",
        "outputId": "aa4f86de-245f-4adf-c06a-4b2d4404ff7a"
      },
      "execution_count": null,
      "outputs": [
        {
          "output_type": "stream",
          "name": "stdout",
          "text": [
            "False\n"
          ]
        }
      ]
    },
    {
      "cell_type": "code",
      "source": [
        "arrays_equal = np.array_equal(arr1, arr2)\n",
        "arrays_equal"
      ],
      "metadata": {
        "colab": {
          "base_uri": "https://localhost:8080/"
        },
        "id": "TmFqvq2rZK7o",
        "outputId": "32ec19b5-6737-49a6-f035-64d85de8c7d1"
      },
      "execution_count": null,
      "outputs": [
        {
          "output_type": "execute_result",
          "data": {
            "text/plain": [
              "False"
            ]
          },
          "metadata": {},
          "execution_count": 11
        }
      ]
    },
    {
      "cell_type": "code",
      "source": [
        "#Question 1 d\n",
        "x = np.array([1, 2, 3, 4, 5, 1, 2, 1, 1, 1])\n",
        "y = np.array([1, 1, 1, 2, 3, 4, 2, 4, 3, 3])\n",
        "\n",
        "def most_frequent(array):\n",
        "    unique,counts = np.unique(array,return_counts=True)\n",
        "    index = np.argmax(counts)\n",
        "    return unique[index]\n",
        "\n",
        "print(most_frequent(x))\n",
        "print(most_frequent(y))\n",
        "\n"
      ],
      "metadata": {
        "id": "NulRnC3qZUYW"
      },
      "execution_count": null,
      "outputs": []
    },
    {
      "cell_type": "code",
      "source": [
        "#Question 1  e\n",
        "gfg=np.matrix('[4,1,9 ; 12,3,1 ; 4,5,6]')\n",
        "gfg\n",
        "\n",
        "sum_all=gfg.sum()\n",
        "print(sum_all)\n",
        "\n",
        "sum_row=gfg.sum(axis=1)\n",
        "print(sum_row)\n",
        "\n",
        "sum_col=gfg.sum(axis=0)\n",
        "print(sum_col)"
      ],
      "metadata": {
        "id": "rpRhz_jZgRxP"
      },
      "execution_count": null,
      "outputs": []
    },
    {
      "cell_type": "code",
      "source": [
        "#Question 1 f\n",
        "n_array = np.array([[55, 25, 15], [30, 44, 2], [11, 45, 77]])\n",
        "\n",
        "sum_diagnol = np.trace(n_array)\n",
        "print(sum_diagnol)\n",
        "\n",
        "eigen_values,eigen_vectors=np.linalg.eig(n_array)\n",
        "print(eigen_values)\n",
        "print(eigen_vectors)\n",
        "\n",
        "w, v = np.linalg.eig(n_array)\n",
        "print(w)\n",
        "print(v)\n",
        "\n",
        "determinant=np.linalg.det(n_array)\n",
        "print(determinant)\n"
      ],
      "metadata": {
        "colab": {
          "base_uri": "https://localhost:8080/"
        },
        "id": "eQXaFEfGhBW0",
        "outputId": "74589625-bb5c-4d7f-d18c-e43fec9b0a63"
      },
      "execution_count": null,
      "outputs": [
        {
          "output_type": "stream",
          "name": "stdout",
          "text": [
            "176\n",
            "[98.16835147 28.097044   49.73460452]\n",
            "[[ 0.4574917   0.34637121 -0.15017693]\n",
            " [ 0.28447814 -0.72784061 -0.4852124 ]\n",
            " [ 0.84248058  0.59184038  0.8614034 ]]\n",
            "[98.16835147 28.097044   49.73460452]\n",
            "[[ 0.4574917   0.34637121 -0.15017693]\n",
            " [ 0.28447814 -0.72784061 -0.4852124 ]\n",
            " [ 0.84248058  0.59184038  0.8614034 ]]\n",
            "137180.0000000001\n"
          ]
        }
      ]
    },
    {
      "cell_type": "code",
      "source": [
        "#Question 1  g\n",
        "p1 = np.array([[1, 2], [2, 3]])\n",
        "q1 = np.array([[4, 5], [6, 7]])\n",
        "\n",
        "p2 = np.array([[1, 2], [2, 3], [4, 5]])\n",
        "q2 = np.array([[4, 5, 1], [6, 7, 2]])\n",
        "\n",
        "# Matrix multiplication\n",
        "product1 = np.dot(p1, q1)\n",
        "product2 = np.dot(p2, q2)\n",
        "\n",
        "# Covariance\n",
        "covariance1 = np.cov(p1, rowvar=False)\n",
        "covariance2 = np.cov(p2, rowvar=False)\n",
        "\n",
        "print(product1)\n",
        "print(product2)\n",
        "print(covariance1)\n",
        "print(covariance2)\n"
      ],
      "metadata": {
        "id": "D9dv7WaYEh0W"
      },
      "execution_count": null,
      "outputs": []
    },
    {
      "cell_type": "code",
      "source": [
        "#Question 1 h\n",
        "x = np.array([[2, 3, 4], [3, 2, 9]])\n",
        "y = np.array([[1, 5, 0], [5, 10, 3]])\n",
        "\n",
        "# Inner product\n",
        "inner_product = np.inner(x, y)\n",
        "\n",
        "# Outer product\n",
        "outer_product = np.outer(x, y)\n",
        "\n",
        "\n",
        "\n",
        "print(inner_product)\n",
        "print(outer_product)\n",
        "\n"
      ],
      "metadata": {
        "colab": {
          "base_uri": "https://localhost:8080/"
        },
        "id": "vC4L1AcnF0u1",
        "outputId": "ed5a5e25-175d-44fe-f463-6526002564da"
      },
      "execution_count": null,
      "outputs": [
        {
          "output_type": "stream",
          "name": "stdout",
          "text": [
            "[[17 52]\n",
            " [13 62]]\n",
            "[[ 2 10  0 10 20  6]\n",
            " [ 3 15  0 15 30  9]\n",
            " [ 4 20  0 20 40 12]\n",
            " [ 3 15  0 15 30  9]\n",
            " [ 2 10  0 10 20  6]\n",
            " [ 9 45  0 45 90 27]]\n"
          ]
        }
      ]
    },
    {
      "cell_type": "code",
      "source": [
        "#Question 2 a\n",
        "array = np.array([[1, -2, 3], [-4, 5, -6]])\n",
        "\n",
        "absolute_array = np.abs(array)\n",
        "print(absolute_array)\n"
      ],
      "metadata": {
        "colab": {
          "base_uri": "https://localhost:8080/"
        },
        "id": "ulOB7HG4GF5u",
        "outputId": "91168654-0ea7-4609-866c-6fc62486ba91"
      },
      "execution_count": null,
      "outputs": [
        {
          "output_type": "stream",
          "name": "stdout",
          "text": [
            "[[1 2 3]\n",
            " [4 5 6]]\n"
          ]
        }
      ]
    },
    {
      "cell_type": "code",
      "source": [
        "flattened_array = array.flatten()\n",
        "\n",
        "percentiles_flattened = np.percentile(flattened_array, [25, 50, 75])\n",
        "percentiles_column = np.percentile(array, [25, 50, 75], axis=0)\n",
        "percentiles_row = np.percentile(array, [25, 50, 75], axis=1)\n",
        "\n",
        "print(percentiles_flattened)\n",
        "print(percentiles_column)\n",
        "print(percentiles_row)\n"
      ],
      "metadata": {
        "colab": {
          "base_uri": "https://localhost:8080/"
        },
        "id": "SmA-XBNGGQEP",
        "outputId": "8749dcb8-014d-4203-a57d-d681ee62f237"
      },
      "execution_count": null,
      "outputs": [
        {
          "output_type": "stream",
          "name": "stdout",
          "text": [
            "[-3.5 -0.5  2.5]\n",
            "[[-2.75 -0.25 -3.75]\n",
            " [-1.5   1.5  -1.5 ]\n",
            " [-0.25  3.25  0.75]]\n",
            "[[-0.5 -5. ]\n",
            " [ 1.  -4. ]\n",
            " [ 2.   0.5]]\n"
          ]
        }
      ]
    },
    {
      "cell_type": "code",
      "source": [
        "mean_flattened = np.mean(flattened_array)\n",
        "median_flattened = np.median(flattened_array)\n",
        "std_flattened = np.std(flattened_array)\n",
        "\n",
        "mean_column = np.mean(array, axis=0)\n",
        "median_column = np.median(array, axis=0)\n",
        "std_column = np.std(array, axis=0)\n",
        "\n",
        "mean_row = np.mean(array, axis=1)\n",
        "median_row = np.median(array, axis=1)\n",
        "std_row = np.std(array, axis=1)\n",
        "\n",
        "print(mean_flattened, median_flattened, std_flattened)\n",
        "print(mean_column, median_column, std_column)\n",
        "print(mean_row, median_row, std_row)\n"
      ],
      "metadata": {
        "colab": {
          "base_uri": "https://localhost:8080/"
        },
        "id": "p1DHWyxwHg_0",
        "outputId": "640328c1-07af-470a-f1b7-7371de78e311"
      },
      "execution_count": null,
      "outputs": [
        {
          "output_type": "stream",
          "name": "stdout",
          "text": [
            "-0.5 -0.5 3.8622100754188224\n",
            "[-1.5  1.5 -1.5] [-1.5  1.5 -1.5] [2.5 3.5 4.5]\n",
            "[ 0.66666667 -1.66666667] [ 1. -4.] [2.05480467 4.78423336]\n"
          ]
        }
      ]
    },
    {
      "cell_type": "code",
      "source": [
        "a = np.array([-1.8, -1.6, -0.5, 0.5, 1.6, 1.8, 3.0])\n",
        "\n",
        "floor_values = np.floor(a)\n",
        "ceil_values = np.ceil(a)\n",
        "truncated_values = np.trunc(a)\n",
        "rounded_values = np.round(a)\n",
        "\n",
        "print(floor_values)\n",
        "print(ceil_values)\n",
        "print(truncated_values)\n",
        "print(rounded_values)\n"
      ],
      "metadata": {
        "colab": {
          "base_uri": "https://localhost:8080/"
        },
        "id": "PdBMMqgOHkvo",
        "outputId": "a2af2619-9539-4bb3-a4b9-04c02bac880f"
      },
      "execution_count": null,
      "outputs": [
        {
          "output_type": "stream",
          "name": "stdout",
          "text": [
            "[-2. -2. -1.  0.  1.  1.  3.]\n",
            "[-1. -1. -0.  1.  2.  2.  3.]\n",
            "[-1. -1. -0.  0.  1.  1.  3.]\n",
            "[-2. -2. -0.  0.  2.  2.  3.]\n"
          ]
        }
      ]
    },
    {
      "cell_type": "code",
      "source": [
        "array = np.array([10, 52, 62, 16, 16, 54, 453])\n",
        "\n",
        "# Sorted array\n",
        "sorted_array = np.sort(array)\n",
        "\n",
        "# Indices of sorted array\n",
        "sorted_indices = np.argsort(array)\n",
        "\n",
        "# 4 smallest elements\n",
        "four_smallest = np.sort(array)[:4]\n",
        "\n",
        "# 5 largest elements\n",
        "five_largest = np.sort(array)[-5:]\n",
        "\n",
        "print(\"Sorted array:\", sorted_array)\n",
        "print(\"Indices of sorted array:\", sorted_indices)\n",
        "print(\"4 smallest elements:\", four_smallest)\n",
        "print(\"5 largest elements:\", five_largest)\n"
      ],
      "metadata": {
        "colab": {
          "base_uri": "https://localhost:8080/"
        },
        "id": "Sn643nCTIOaU",
        "outputId": "a66048a4-162e-41b5-85bb-760428944d21"
      },
      "execution_count": null,
      "outputs": [
        {
          "output_type": "stream",
          "name": "stdout",
          "text": [
            "Sorted array: [ 10  16  16  52  54  62 453]\n",
            "Indices of sorted array: [0 3 4 1 5 2 6]\n",
            "4 smallest elements: [10 16 16 52]\n",
            "5 largest elements: [ 16  52  54  62 453]\n"
          ]
        }
      ]
    },
    {
      "cell_type": "code",
      "source": [
        "#Question 4\n",
        "import numpy as np\n",
        "from PIL import Image\n",
        "\n",
        "def img_to_array(path):\n",
        "    img = Image.open(path)\n",
        "    img_array = np.array(img)\n",
        "    if img_array.ndim == 3:  # RGB image\n",
        "        np.savetxt(\"image_rgb.txt\", img_array.reshape(-1, img_array.shape[2]), fmt='%d')\n",
        "    else:  # Grayscale image\n",
        "        np.savetxt(\"image_gray.txt\", img_array, fmt='%d')\n",
        "    return img_array\n",
        "\n",
        "# Example usage\n",
        "path = 'path_to_image.jpg'\n",
        "img_array = img_to_array(path)\n"
      ],
      "metadata": {
        "id": "SFoJdXmUKwJs"
      },
      "execution_count": null,
      "outputs": []
    },
    {
      "cell_type": "code",
      "source": [
        "# Loading RGB image text file\n",
        "loaded_rgb = np.loadtxt(\"image_rgb.txt\").reshape(-1, 3)\n",
        "\n",
        "# Loading grayscale image text file\n",
        "loaded_gray = np.loadtxt(\"image_gray.txt\")\n",
        "\n",
        "print(loaded_rgb)\n",
        "print(loaded_gray)\n"
      ],
      "metadata": {
        "id": "V4fyLzEpLMPZ"
      },
      "execution_count": null,
      "outputs": []
    }
  ]
}