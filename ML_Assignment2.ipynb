{
  "nbformat": 4,
  "nbformat_minor": 0,
  "metadata": {
    "colab": {
      "provenance": [],
      "authorship_tag": "ABX9TyP1zxJlxtHQ4KzSjhbqOv2q",
      "include_colab_link": true
    },
    "kernelspec": {
      "name": "python3",
      "display_name": "Python 3"
    },
    "language_info": {
      "name": "python"
    }
  },
  "cells": [
    {
      "cell_type": "markdown",
      "metadata": {
        "id": "view-in-github",
        "colab_type": "text"
      },
      "source": [
        "<a href=\"https://colab.research.google.com/github/Aditya-Walia1/ML-Assignments/blob/main/ML_Assignment2.ipynb\" target=\"_parent\"><img src=\"https://colab.research.google.com/assets/colab-badge.svg\" alt=\"Open In Colab\"/></a>"
      ]
    },
    {
      "cell_type": "code",
      "execution_count": 2,
      "metadata": {
        "id": "yRFOGsDy6kfE"
      },
      "outputs": [],
      "source": [
        "import pandas as pd\n",
        "d1=pd.read_csv(\"/content/AWCustomers.csv\")\n",
        "d2=pd.read_csv(\"/content/AWSales.csv\")\n",
        "d3=pd.read_csv(\"/content/AWTest-Classification.csv\")\n",
        "d4=pd.read_csv(\"/content/AWTest-Regression.csv\")\n"
      ]
    },
    {
      "cell_type": "code",
      "source": [
        "print(d1.info())\n",
        "print(d1.describe())\n",
        "print(d1.head())"
      ],
      "metadata": {
        "colab": {
          "base_uri": "https://localhost:8080/"
        },
        "id": "JXAoc4Df7K7k",
        "outputId": "60b93a85-1548-41f7-9704-669ebc059883"
      },
      "execution_count": 10,
      "outputs": [
        {
          "output_type": "stream",
          "name": "stdout",
          "text": [
            "<class 'pandas.core.frame.DataFrame'>\n",
            "RangeIndex: 18361 entries, 0 to 18360\n",
            "Data columns (total 24 columns):\n",
            " #   Column                Non-Null Count  Dtype \n",
            "---  ------                --------------  ----- \n",
            " 0   CustomerID            18361 non-null  int64 \n",
            " 1   Title                 101 non-null    object\n",
            " 2   FirstName             18361 non-null  object\n",
            " 3   MiddleName            10572 non-null  object\n",
            " 4   LastName              18361 non-null  object\n",
            " 5   Suffix                3 non-null      object\n",
            " 6   AddressLine1          18361 non-null  object\n",
            " 7   AddressLine2          311 non-null    object\n",
            " 8   City                  18361 non-null  object\n",
            " 9   StateProvinceName     18361 non-null  object\n",
            " 10  CountryRegionName     18361 non-null  object\n",
            " 11  PostalCode            18361 non-null  object\n",
            " 12  PhoneNumber           18361 non-null  object\n",
            " 13  BirthDate             18361 non-null  object\n",
            " 14  Education             18361 non-null  object\n",
            " 15  Occupation            18361 non-null  object\n",
            " 16  Gender                18361 non-null  object\n",
            " 17  MaritalStatus         18361 non-null  object\n",
            " 18  HomeOwnerFlag         18361 non-null  int64 \n",
            " 19  NumberCarsOwned       18361 non-null  int64 \n",
            " 20  NumberChildrenAtHome  18361 non-null  int64 \n",
            " 21  TotalChildren         18361 non-null  int64 \n",
            " 22  YearlyIncome          18361 non-null  int64 \n",
            " 23  LastUpdated           18361 non-null  object\n",
            "dtypes: int64(6), object(18)\n",
            "memory usage: 3.4+ MB\n",
            "None\n",
            "         CustomerID  HomeOwnerFlag  NumberCarsOwned  NumberChildrenAtHome  \\\n",
            "count  18361.000000   18361.000000     18361.000000          18361.000000   \n",
            "mean   20241.987092       0.610588         1.270301              0.338162   \n",
            "std     5336.332731       0.487630         0.913989              0.568957   \n",
            "min    11000.000000       0.000000         0.000000              0.000000   \n",
            "25%    15621.000000       0.000000         1.000000              0.000000   \n",
            "50%    20248.000000       1.000000         1.000000              0.000000   \n",
            "75%    24863.000000       1.000000         2.000000              1.000000   \n",
            "max    29483.000000       1.000000         5.000000              3.000000   \n",
            "\n",
            "       TotalChildren   YearlyIncome  \n",
            "count   18361.000000   18361.000000  \n",
            "mean        0.850389   72754.779642  \n",
            "std         0.927315   30686.014313  \n",
            "min         0.000000   25435.000000  \n",
            "25%         0.000000   53312.000000  \n",
            "50%         0.000000   61851.000000  \n",
            "75%         2.000000   87410.000000  \n",
            "max         3.000000  139115.000000  \n",
            "   CustomerID Title FirstName MiddleName  LastName Suffix  \\\n",
            "0       21173   NaN      Chad          C      Yuan    NaN   \n",
            "1       13249   NaN      Ryan        NaN     Perry    NaN   \n",
            "2       29350   NaN     Julia        NaN  Thompson    NaN   \n",
            "3       13503   NaN  Theodore        NaN     Gomez    NaN   \n",
            "4       22803   NaN  Marshall          J      Shan    NaN   \n",
            "\n",
            "             AddressLine1 AddressLine2         City    StateProvinceName  ...  \\\n",
            "0      7090 C. Mount Hood          NaN   Wollongong      New South Wales  ...   \n",
            "1     3651 Willow Lake Rd          NaN      Shawnee     British Columbia  ...   \n",
            "2  1774 Tice Valley Blvd.          NaN  West Covina           California  ...   \n",
            "3         2103 Baldwin Dr          NaN    Liverpool              England  ...   \n",
            "4         Am Gallberg 234          NaN        Werne  Nordrhein-Westfalen  ...   \n",
            "\n",
            "         Education      Occupation Gender MaritalStatus HomeOwnerFlag  \\\n",
            "0        Bachelors        Clerical      M             M             1   \n",
            "1  Partial College        Clerical      M             M             1   \n",
            "2        Bachelors        Clerical      F             S             0   \n",
            "3  Partial College  Skilled Manual      M             M             1   \n",
            "4  Partial College  Skilled Manual      M             S             1   \n",
            "\n",
            "  NumberCarsOwned NumberChildrenAtHome TotalChildren  YearlyIncome  \\\n",
            "0               3                    0             1         81916   \n",
            "1               2                    1             2         81076   \n",
            "2               3                    0             0         86387   \n",
            "3               2                    1             2         61481   \n",
            "4               1                    0             0         51804   \n",
            "\n",
            "   LastUpdated  \n",
            "0   2017-03-06  \n",
            "1   2017-03-06  \n",
            "2   2017-03-06  \n",
            "3   2017-03-06  \n",
            "4   2017-03-06  \n",
            "\n",
            "[5 rows x 24 columns]\n"
          ]
        }
      ]
    },
    {
      "cell_type": "code",
      "source": [
        "print(d2.info())\n",
        "print(d2.describe())\n",
        "print(d2.head())"
      ],
      "metadata": {
        "colab": {
          "base_uri": "https://localhost:8080/"
        },
        "id": "8T3lICJH7i46",
        "outputId": "0b964eab-1af2-433f-9458-f6921c694938"
      },
      "execution_count": 11,
      "outputs": [
        {
          "output_type": "stream",
          "name": "stdout",
          "text": [
            "<class 'pandas.core.frame.DataFrame'>\n",
            "RangeIndex: 18355 entries, 0 to 18354\n",
            "Data columns (total 3 columns):\n",
            " #   Column         Non-Null Count  Dtype  \n",
            "---  ------         --------------  -----  \n",
            " 0   CustomerID     18355 non-null  int64  \n",
            " 1   BikeBuyer      18355 non-null  int64  \n",
            " 2   AvgMonthSpend  18355 non-null  float64\n",
            "dtypes: float64(1), int64(2)\n",
            "memory usage: 430.3 KB\n",
            "None\n",
            "         CustomerID    BikeBuyer  AvgMonthSpend\n",
            "count  18355.000000  18355.00000   18355.000000\n",
            "mean   20241.349387      0.55173      51.767207\n",
            "std     5336.539868      0.49733       3.438024\n",
            "min    11000.000000      0.00000      44.100000\n",
            "25%    15620.500000      0.00000      49.410000\n",
            "50%    20246.000000      1.00000      51.420000\n",
            "75%    24863.500000      1.00000      53.600000\n",
            "max    29483.000000      1.00000      65.290000\n",
            "   CustomerID  BikeBuyer  AvgMonthSpend\n",
            "0       21173          1          50.97\n",
            "1       13249          1          53.11\n",
            "2       29350          1          54.08\n",
            "3       13503          1          56.93\n",
            "4       22803          1          55.41\n"
          ]
        }
      ]
    },
    {
      "cell_type": "code",
      "source": [
        "print(d3.info())"
      ],
      "metadata": {
        "colab": {
          "base_uri": "https://localhost:8080/"
        },
        "id": "LhOLJIup7xW5",
        "outputId": "7c86cc29-2606-4157-da14-e2836638cbf9"
      },
      "execution_count": 7,
      "outputs": [
        {
          "output_type": "stream",
          "name": "stdout",
          "text": [
            "<class 'pandas.core.frame.DataFrame'>\n",
            "RangeIndex: 50 entries, 0 to 49\n",
            "Data columns (total 24 columns):\n",
            " #   Column                Non-Null Count  Dtype  \n",
            "---  ------                --------------  -----  \n",
            " 0   CustomerID            50 non-null     int64  \n",
            " 1   Title                 0 non-null      float64\n",
            " 2   FirstName             50 non-null     object \n",
            " 3   MiddleName            28 non-null     object \n",
            " 4   LastName              50 non-null     object \n",
            " 5   Suffix                0 non-null      float64\n",
            " 6   AddressLine1          50 non-null     object \n",
            " 7   AddressLine2          0 non-null      float64\n",
            " 8   City                  50 non-null     object \n",
            " 9   StateProvinceName     50 non-null     object \n",
            " 10  CountryRegionName     50 non-null     object \n",
            " 11  PostalCode            50 non-null     object \n",
            " 12  PhoneNumber           50 non-null     object \n",
            " 13  BirthDate             50 non-null     object \n",
            " 14  Education             50 non-null     object \n",
            " 15  Occupation            50 non-null     object \n",
            " 16  Gender                50 non-null     object \n",
            " 17  MaritalStatus         50 non-null     object \n",
            " 18  HomeOwnerFlag         50 non-null     int64  \n",
            " 19  NumberCarsOwned       50 non-null     int64  \n",
            " 20  NumberChildrenAtHome  50 non-null     int64  \n",
            " 21  TotalChildren         50 non-null     int64  \n",
            " 22  YearlyIncome          50 non-null     int64  \n",
            " 23  LastUpdated           50 non-null     object \n",
            "dtypes: float64(3), int64(6), object(15)\n",
            "memory usage: 9.5+ KB\n",
            "None\n"
          ]
        }
      ]
    },
    {
      "cell_type": "code",
      "source": [
        "print(d4.info())\n"
      ],
      "metadata": {
        "colab": {
          "base_uri": "https://localhost:8080/"
        },
        "id": "6ZnStqfQ75-t",
        "outputId": "1637c3ab-c1f7-4469-8db8-5456730d6648"
      },
      "execution_count": 8,
      "outputs": [
        {
          "output_type": "stream",
          "name": "stdout",
          "text": [
            "<class 'pandas.core.frame.DataFrame'>\n",
            "RangeIndex: 25 entries, 0 to 24\n",
            "Data columns (total 24 columns):\n",
            " #   Column                Non-Null Count  Dtype  \n",
            "---  ------                --------------  -----  \n",
            " 0   CustomerID            25 non-null     int64  \n",
            " 1   Title                 0 non-null      float64\n",
            " 2   FirstName             25 non-null     object \n",
            " 3   MiddleName            19 non-null     object \n",
            " 4   LastName              25 non-null     object \n",
            " 5   Suffix                0 non-null      float64\n",
            " 6   AddressLine1          25 non-null     object \n",
            " 7   AddressLine2          0 non-null      float64\n",
            " 8   City                  25 non-null     object \n",
            " 9   StateProvinceName     25 non-null     object \n",
            " 10  CountryRegionName     25 non-null     object \n",
            " 11  PostalCode            25 non-null     object \n",
            " 12  PhoneNumber           25 non-null     object \n",
            " 13  BirthDate             25 non-null     object \n",
            " 14  Education             25 non-null     object \n",
            " 15  Occupation            25 non-null     object \n",
            " 16  Gender                25 non-null     object \n",
            " 17  MaritalStatus         25 non-null     object \n",
            " 18  HomeOwnerFlag         25 non-null     int64  \n",
            " 19  NumberCarsOwned       25 non-null     int64  \n",
            " 20  NumberChildrenAtHome  25 non-null     int64  \n",
            " 21  TotalChildren         25 non-null     int64  \n",
            " 22  YearlyIncome          25 non-null     int64  \n",
            " 23  LastUpdated           25 non-null     object \n",
            "dtypes: float64(3), int64(6), object(15)\n",
            "memory usage: 4.8+ KB\n",
            "None\n"
          ]
        }
      ]
    },
    {
      "cell_type": "code",
      "source": [
        "# Select relevant features\n",
        "selected_columns = ['NumberCarsOwned', 'YearlyIncome', 'TotalChildren']\n",
        "df_selected = d1[selected_columns]\n"
      ],
      "metadata": {
        "id": "GlMRs1l38Wff"
      },
      "execution_count": 14,
      "outputs": []
    },
    {
      "cell_type": "code",
      "source": [
        "df_selected.head()"
      ],
      "metadata": {
        "colab": {
          "base_uri": "https://localhost:8080/",
          "height": 206
        },
        "id": "23xw2omy9fsM",
        "outputId": "1ec572ae-5cba-42c8-dd8e-835b86a0920b"
      },
      "execution_count": 15,
      "outputs": [
        {
          "output_type": "execute_result",
          "data": {
            "text/plain": [
              "   NumberCarsOwned  YearlyIncome  TotalChildren\n",
              "0                3         81916              1\n",
              "1                2         81076              2\n",
              "2                3         86387              0\n",
              "3                2         61481              2\n",
              "4                1         51804              0"
            ],
            "text/html": [
              "\n",
              "  <div id=\"df-fabf4077-1192-4999-ad6a-f396586b1425\" class=\"colab-df-container\">\n",
              "    <div>\n",
              "<style scoped>\n",
              "    .dataframe tbody tr th:only-of-type {\n",
              "        vertical-align: middle;\n",
              "    }\n",
              "\n",
              "    .dataframe tbody tr th {\n",
              "        vertical-align: top;\n",
              "    }\n",
              "\n",
              "    .dataframe thead th {\n",
              "        text-align: right;\n",
              "    }\n",
              "</style>\n",
              "<table border=\"1\" class=\"dataframe\">\n",
              "  <thead>\n",
              "    <tr style=\"text-align: right;\">\n",
              "      <th></th>\n",
              "      <th>NumberCarsOwned</th>\n",
              "      <th>YearlyIncome</th>\n",
              "      <th>TotalChildren</th>\n",
              "    </tr>\n",
              "  </thead>\n",
              "  <tbody>\n",
              "    <tr>\n",
              "      <th>0</th>\n",
              "      <td>3</td>\n",
              "      <td>81916</td>\n",
              "      <td>1</td>\n",
              "    </tr>\n",
              "    <tr>\n",
              "      <th>1</th>\n",
              "      <td>2</td>\n",
              "      <td>81076</td>\n",
              "      <td>2</td>\n",
              "    </tr>\n",
              "    <tr>\n",
              "      <th>2</th>\n",
              "      <td>3</td>\n",
              "      <td>86387</td>\n",
              "      <td>0</td>\n",
              "    </tr>\n",
              "    <tr>\n",
              "      <th>3</th>\n",
              "      <td>2</td>\n",
              "      <td>61481</td>\n",
              "      <td>2</td>\n",
              "    </tr>\n",
              "    <tr>\n",
              "      <th>4</th>\n",
              "      <td>1</td>\n",
              "      <td>51804</td>\n",
              "      <td>0</td>\n",
              "    </tr>\n",
              "  </tbody>\n",
              "</table>\n",
              "</div>\n",
              "    <div class=\"colab-df-buttons\">\n",
              "\n",
              "  <div class=\"colab-df-container\">\n",
              "    <button class=\"colab-df-convert\" onclick=\"convertToInteractive('df-fabf4077-1192-4999-ad6a-f396586b1425')\"\n",
              "            title=\"Convert this dataframe to an interactive table.\"\n",
              "            style=\"display:none;\">\n",
              "\n",
              "  <svg xmlns=\"http://www.w3.org/2000/svg\" height=\"24px\" viewBox=\"0 -960 960 960\">\n",
              "    <path d=\"M120-120v-720h720v720H120Zm60-500h600v-160H180v160Zm220 220h160v-160H400v160Zm0 220h160v-160H400v160ZM180-400h160v-160H180v160Zm440 0h160v-160H620v160ZM180-180h160v-160H180v160Zm440 0h160v-160H620v160Z\"/>\n",
              "  </svg>\n",
              "    </button>\n",
              "\n",
              "  <style>\n",
              "    .colab-df-container {\n",
              "      display:flex;\n",
              "      gap: 12px;\n",
              "    }\n",
              "\n",
              "    .colab-df-convert {\n",
              "      background-color: #E8F0FE;\n",
              "      border: none;\n",
              "      border-radius: 50%;\n",
              "      cursor: pointer;\n",
              "      display: none;\n",
              "      fill: #1967D2;\n",
              "      height: 32px;\n",
              "      padding: 0 0 0 0;\n",
              "      width: 32px;\n",
              "    }\n",
              "\n",
              "    .colab-df-convert:hover {\n",
              "      background-color: #E2EBFA;\n",
              "      box-shadow: 0px 1px 2px rgba(60, 64, 67, 0.3), 0px 1px 3px 1px rgba(60, 64, 67, 0.15);\n",
              "      fill: #174EA6;\n",
              "    }\n",
              "\n",
              "    .colab-df-buttons div {\n",
              "      margin-bottom: 4px;\n",
              "    }\n",
              "\n",
              "    [theme=dark] .colab-df-convert {\n",
              "      background-color: #3B4455;\n",
              "      fill: #D2E3FC;\n",
              "    }\n",
              "\n",
              "    [theme=dark] .colab-df-convert:hover {\n",
              "      background-color: #434B5C;\n",
              "      box-shadow: 0px 1px 3px 1px rgba(0, 0, 0, 0.15);\n",
              "      filter: drop-shadow(0px 1px 2px rgba(0, 0, 0, 0.3));\n",
              "      fill: #FFFFFF;\n",
              "    }\n",
              "  </style>\n",
              "\n",
              "    <script>\n",
              "      const buttonEl =\n",
              "        document.querySelector('#df-fabf4077-1192-4999-ad6a-f396586b1425 button.colab-df-convert');\n",
              "      buttonEl.style.display =\n",
              "        google.colab.kernel.accessAllowed ? 'block' : 'none';\n",
              "\n",
              "      async function convertToInteractive(key) {\n",
              "        const element = document.querySelector('#df-fabf4077-1192-4999-ad6a-f396586b1425');\n",
              "        const dataTable =\n",
              "          await google.colab.kernel.invokeFunction('convertToInteractive',\n",
              "                                                    [key], {});\n",
              "        if (!dataTable) return;\n",
              "\n",
              "        const docLinkHtml = 'Like what you see? Visit the ' +\n",
              "          '<a target=\"_blank\" href=https://colab.research.google.com/notebooks/data_table.ipynb>data table notebook</a>'\n",
              "          + ' to learn more about interactive tables.';\n",
              "        element.innerHTML = '';\n",
              "        dataTable['output_type'] = 'display_data';\n",
              "        await google.colab.output.renderOutput(dataTable, element);\n",
              "        const docLink = document.createElement('div');\n",
              "        docLink.innerHTML = docLinkHtml;\n",
              "        element.appendChild(docLink);\n",
              "      }\n",
              "    </script>\n",
              "  </div>\n",
              "\n",
              "\n",
              "<div id=\"df-ec54fa21-c241-4028-99b3-cfd6f8198560\">\n",
              "  <button class=\"colab-df-quickchart\" onclick=\"quickchart('df-ec54fa21-c241-4028-99b3-cfd6f8198560')\"\n",
              "            title=\"Suggest charts\"\n",
              "            style=\"display:none;\">\n",
              "\n",
              "<svg xmlns=\"http://www.w3.org/2000/svg\" height=\"24px\"viewBox=\"0 0 24 24\"\n",
              "     width=\"24px\">\n",
              "    <g>\n",
              "        <path d=\"M19 3H5c-1.1 0-2 .9-2 2v14c0 1.1.9 2 2 2h14c1.1 0 2-.9 2-2V5c0-1.1-.9-2-2-2zM9 17H7v-7h2v7zm4 0h-2V7h2v10zm4 0h-2v-4h2v4z\"/>\n",
              "    </g>\n",
              "</svg>\n",
              "  </button>\n",
              "\n",
              "<style>\n",
              "  .colab-df-quickchart {\n",
              "      --bg-color: #E8F0FE;\n",
              "      --fill-color: #1967D2;\n",
              "      --hover-bg-color: #E2EBFA;\n",
              "      --hover-fill-color: #174EA6;\n",
              "      --disabled-fill-color: #AAA;\n",
              "      --disabled-bg-color: #DDD;\n",
              "  }\n",
              "\n",
              "  [theme=dark] .colab-df-quickchart {\n",
              "      --bg-color: #3B4455;\n",
              "      --fill-color: #D2E3FC;\n",
              "      --hover-bg-color: #434B5C;\n",
              "      --hover-fill-color: #FFFFFF;\n",
              "      --disabled-bg-color: #3B4455;\n",
              "      --disabled-fill-color: #666;\n",
              "  }\n",
              "\n",
              "  .colab-df-quickchart {\n",
              "    background-color: var(--bg-color);\n",
              "    border: none;\n",
              "    border-radius: 50%;\n",
              "    cursor: pointer;\n",
              "    display: none;\n",
              "    fill: var(--fill-color);\n",
              "    height: 32px;\n",
              "    padding: 0;\n",
              "    width: 32px;\n",
              "  }\n",
              "\n",
              "  .colab-df-quickchart:hover {\n",
              "    background-color: var(--hover-bg-color);\n",
              "    box-shadow: 0 1px 2px rgba(60, 64, 67, 0.3), 0 1px 3px 1px rgba(60, 64, 67, 0.15);\n",
              "    fill: var(--button-hover-fill-color);\n",
              "  }\n",
              "\n",
              "  .colab-df-quickchart-complete:disabled,\n",
              "  .colab-df-quickchart-complete:disabled:hover {\n",
              "    background-color: var(--disabled-bg-color);\n",
              "    fill: var(--disabled-fill-color);\n",
              "    box-shadow: none;\n",
              "  }\n",
              "\n",
              "  .colab-df-spinner {\n",
              "    border: 2px solid var(--fill-color);\n",
              "    border-color: transparent;\n",
              "    border-bottom-color: var(--fill-color);\n",
              "    animation:\n",
              "      spin 1s steps(1) infinite;\n",
              "  }\n",
              "\n",
              "  @keyframes spin {\n",
              "    0% {\n",
              "      border-color: transparent;\n",
              "      border-bottom-color: var(--fill-color);\n",
              "      border-left-color: var(--fill-color);\n",
              "    }\n",
              "    20% {\n",
              "      border-color: transparent;\n",
              "      border-left-color: var(--fill-color);\n",
              "      border-top-color: var(--fill-color);\n",
              "    }\n",
              "    30% {\n",
              "      border-color: transparent;\n",
              "      border-left-color: var(--fill-color);\n",
              "      border-top-color: var(--fill-color);\n",
              "      border-right-color: var(--fill-color);\n",
              "    }\n",
              "    40% {\n",
              "      border-color: transparent;\n",
              "      border-right-color: var(--fill-color);\n",
              "      border-top-color: var(--fill-color);\n",
              "    }\n",
              "    60% {\n",
              "      border-color: transparent;\n",
              "      border-right-color: var(--fill-color);\n",
              "    }\n",
              "    80% {\n",
              "      border-color: transparent;\n",
              "      border-right-color: var(--fill-color);\n",
              "      border-bottom-color: var(--fill-color);\n",
              "    }\n",
              "    90% {\n",
              "      border-color: transparent;\n",
              "      border-bottom-color: var(--fill-color);\n",
              "    }\n",
              "  }\n",
              "</style>\n",
              "\n",
              "  <script>\n",
              "    async function quickchart(key) {\n",
              "      const quickchartButtonEl =\n",
              "        document.querySelector('#' + key + ' button');\n",
              "      quickchartButtonEl.disabled = true;  // To prevent multiple clicks.\n",
              "      quickchartButtonEl.classList.add('colab-df-spinner');\n",
              "      try {\n",
              "        const charts = await google.colab.kernel.invokeFunction(\n",
              "            'suggestCharts', [key], {});\n",
              "      } catch (error) {\n",
              "        console.error('Error during call to suggestCharts:', error);\n",
              "      }\n",
              "      quickchartButtonEl.classList.remove('colab-df-spinner');\n",
              "      quickchartButtonEl.classList.add('colab-df-quickchart-complete');\n",
              "    }\n",
              "    (() => {\n",
              "      let quickchartButtonEl =\n",
              "        document.querySelector('#df-ec54fa21-c241-4028-99b3-cfd6f8198560 button');\n",
              "      quickchartButtonEl.style.display =\n",
              "        google.colab.kernel.accessAllowed ? 'block' : 'none';\n",
              "    })();\n",
              "  </script>\n",
              "</div>\n",
              "\n",
              "    </div>\n",
              "  </div>\n"
            ],
            "application/vnd.google.colaboratory.intrinsic+json": {
              "type": "dataframe",
              "variable_name": "df_selected",
              "summary": "{\n  \"name\": \"df_selected\",\n  \"rows\": 18361,\n  \"fields\": [\n    {\n      \"column\": \"NumberCarsOwned\",\n      \"properties\": {\n        \"dtype\": \"number\",\n        \"std\": 0,\n        \"min\": 0,\n        \"max\": 5,\n        \"num_unique_values\": 6,\n        \"samples\": [\n          3,\n          2,\n          5\n        ],\n        \"semantic_type\": \"\",\n        \"description\": \"\"\n      }\n    },\n    {\n      \"column\": \"YearlyIncome\",\n      \"properties\": {\n        \"dtype\": \"number\",\n        \"std\": 30686,\n        \"min\": 25435,\n        \"max\": 139115,\n        \"num_unique_values\": 15356,\n        \"samples\": [\n          30688,\n          81882,\n          135934\n        ],\n        \"semantic_type\": \"\",\n        \"description\": \"\"\n      }\n    },\n    {\n      \"column\": \"TotalChildren\",\n      \"properties\": {\n        \"dtype\": \"number\",\n        \"std\": 0,\n        \"min\": 0,\n        \"max\": 3,\n        \"num_unique_values\": 4,\n        \"samples\": [\n          2,\n          3,\n          1\n        ],\n        \"semantic_type\": \"\",\n        \"description\": \"\"\n      }\n    }\n  ]\n}"
            }
          },
          "metadata": {},
          "execution_count": 15
        }
      ]
    },
    {
      "cell_type": "code",
      "source": [
        "df_selected=df_selected.dropna()\n",
        "df_selected.info()\n",
        "\n"
      ],
      "metadata": {
        "colab": {
          "base_uri": "https://localhost:8080/"
        },
        "id": "jwSBI3CH9jYw",
        "outputId": "6e0a8b84-044f-4269-baf5-9558ba018e65"
      },
      "execution_count": 17,
      "outputs": [
        {
          "output_type": "stream",
          "name": "stdout",
          "text": [
            "<class 'pandas.core.frame.DataFrame'>\n",
            "RangeIndex: 18361 entries, 0 to 18360\n",
            "Data columns (total 3 columns):\n",
            " #   Column           Non-Null Count  Dtype\n",
            "---  ------           --------------  -----\n",
            " 0   NumberCarsOwned  18361 non-null  int64\n",
            " 1   YearlyIncome     18361 non-null  int64\n",
            " 2   TotalChildren    18361 non-null  int64\n",
            "dtypes: int64(3)\n",
            "memory usage: 430.5 KB\n"
          ]
        }
      ]
    },
    {
      "cell_type": "code",
      "source": [
        "from sklearn.preprocessing import MinMaxScaler # Correct the spelling from MinMaxScalar to MinMaxScaler"
      ],
      "metadata": {
        "id": "e86VjVV1BG4I"
      },
      "execution_count": 19,
      "outputs": []
    },
    {
      "cell_type": "code",
      "source": [
        "scalar=MinMaxScaler()\n",
        "df_selected=scalar.fit_transform(df_selected)"
      ],
      "metadata": {
        "id": "LelkP52vBWYg"
      },
      "execution_count": 20,
      "outputs": []
    },
    {
      "cell_type": "code",
      "source": [
        "# df_selected=pd.cut(df_selected,bins=4,labels=['low','medium','high'])\n",
        "from sklearn.preprocessing import StandardScaler\n",
        "scalar=StandardScaler()\n",
        "df_selected=scalar.fit_transform(df_selected)"
      ],
      "metadata": {
        "id": "ztLZ8S1UDIcS"
      },
      "execution_count": 22,
      "outputs": []
    },
    {
      "cell_type": "code",
      "source": [
        "# df_selected = pd.get_dummies(df_selected, columns=['Commute Distance'])\n"
      ],
      "metadata": {
        "id": "c4I8O3GaEdIU"
      },
      "execution_count": 24,
      "outputs": []
    },
    {
      "cell_type": "code",
      "source": [
        "from sklearn.metrics import jaccard_score, accuracy_score\n",
        "\n",
        "obj1 = df_selected.iloc[0]\n",
        "obj2 = df_selected.iloc[1]\n",
        "\n",
        "jaccard_sim = jaccard_score(obj1, obj2)\n",
        "print(\"Jaccard Similarity:\", jaccard_sim)"
      ],
      "metadata": {
        "colab": {
          "base_uri": "https://localhost:8080/",
          "height": 211
        },
        "id": "rHgZW28DEm6H",
        "outputId": "ebd0368c-1bd9-436e-d778-d354c8f1dcb3"
      },
      "execution_count": 25,
      "outputs": [
        {
          "output_type": "error",
          "ename": "AttributeError",
          "evalue": "'numpy.ndarray' object has no attribute 'iloc'",
          "traceback": [
            "\u001b[0;31m---------------------------------------------------------------------------\u001b[0m",
            "\u001b[0;31mAttributeError\u001b[0m                            Traceback (most recent call last)",
            "\u001b[0;32m<ipython-input-25-27e083d4da9b>\u001b[0m in \u001b[0;36m<cell line: 3>\u001b[0;34m()\u001b[0m\n\u001b[1;32m      1\u001b[0m \u001b[0;32mfrom\u001b[0m \u001b[0msklearn\u001b[0m\u001b[0;34m.\u001b[0m\u001b[0mmetrics\u001b[0m \u001b[0;32mimport\u001b[0m \u001b[0mjaccard_score\u001b[0m\u001b[0;34m,\u001b[0m \u001b[0maccuracy_score\u001b[0m\u001b[0;34m\u001b[0m\u001b[0;34m\u001b[0m\u001b[0m\n\u001b[1;32m      2\u001b[0m \u001b[0;34m\u001b[0m\u001b[0m\n\u001b[0;32m----> 3\u001b[0;31m \u001b[0mobj1\u001b[0m \u001b[0;34m=\u001b[0m \u001b[0mdf_selected\u001b[0m\u001b[0;34m.\u001b[0m\u001b[0miloc\u001b[0m\u001b[0;34m[\u001b[0m\u001b[0;36m0\u001b[0m\u001b[0;34m]\u001b[0m\u001b[0;34m\u001b[0m\u001b[0;34m\u001b[0m\u001b[0m\n\u001b[0m\u001b[1;32m      4\u001b[0m \u001b[0mobj2\u001b[0m \u001b[0;34m=\u001b[0m \u001b[0mdf_selected\u001b[0m\u001b[0;34m.\u001b[0m\u001b[0miloc\u001b[0m\u001b[0;34m[\u001b[0m\u001b[0;36m1\u001b[0m\u001b[0;34m]\u001b[0m\u001b[0;34m\u001b[0m\u001b[0;34m\u001b[0m\u001b[0m\n\u001b[1;32m      5\u001b[0m \u001b[0;34m\u001b[0m\u001b[0m\n",
            "\u001b[0;31mAttributeError\u001b[0m: 'numpy.ndarray' object has no attribute 'iloc'"
          ]
        }
      ]
    },
    {
      "cell_type": "code",
      "source": [
        "from scipy.spatial import distance\n",
        "\n",
        "obj1 = df_selected.iloc[0]\n",
        "obj2 = df_selected.iloc[1]\n",
        "\n",
        "euclidean_dist = distance.euclidean(obj1, obj2)\n",
        "print(\"Euclidean Distance:\", euclidean_dist)"
      ],
      "metadata": {
        "id": "ssrlgFrNGdP-"
      },
      "execution_count": null,
      "outputs": []
    },
    {
      "cell_type": "code",
      "source": [
        "correlation = df_selected[['Commute Distance', 'Yearly Income']].corr()\n",
        "print(correlation)\n"
      ],
      "metadata": {
        "colab": {
          "base_uri": "https://localhost:8080/",
          "height": 158
        },
        "id": "yGEgKzxjGyiy",
        "outputId": "c18c6809-8677-4823-c275-019f9c0872be"
      },
      "execution_count": 26,
      "outputs": [
        {
          "output_type": "error",
          "ename": "IndexError",
          "evalue": "only integers, slices (`:`), ellipsis (`...`), numpy.newaxis (`None`) and integer or boolean arrays are valid indices",
          "traceback": [
            "\u001b[0;31m---------------------------------------------------------------------------\u001b[0m",
            "\u001b[0;31mIndexError\u001b[0m                                Traceback (most recent call last)",
            "\u001b[0;32m<ipython-input-26-d4d6ad4bd9a5>\u001b[0m in \u001b[0;36m<cell line: 1>\u001b[0;34m()\u001b[0m\n\u001b[0;32m----> 1\u001b[0;31m \u001b[0mcorrelation\u001b[0m \u001b[0;34m=\u001b[0m \u001b[0mdf_selected\u001b[0m\u001b[0;34m[\u001b[0m\u001b[0;34m[\u001b[0m\u001b[0;34m'Commute Distance'\u001b[0m\u001b[0;34m,\u001b[0m \u001b[0;34m'Yearly Income'\u001b[0m\u001b[0;34m]\u001b[0m\u001b[0;34m]\u001b[0m\u001b[0;34m.\u001b[0m\u001b[0mcorr\u001b[0m\u001b[0;34m(\u001b[0m\u001b[0;34m)\u001b[0m\u001b[0;34m\u001b[0m\u001b[0;34m\u001b[0m\u001b[0m\n\u001b[0m\u001b[1;32m      2\u001b[0m \u001b[0mprint\u001b[0m\u001b[0;34m(\u001b[0m\u001b[0mcorrelation\u001b[0m\u001b[0;34m)\u001b[0m\u001b[0;34m\u001b[0m\u001b[0;34m\u001b[0m\u001b[0m\n",
            "\u001b[0;31mIndexError\u001b[0m: only integers, slices (`:`), ellipsis (`...`), numpy.newaxis (`None`) and integer or boolean arrays are valid indices"
          ]
        }
      ]
    }
  ]
}